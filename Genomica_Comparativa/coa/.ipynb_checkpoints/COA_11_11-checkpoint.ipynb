{
 "cells": [
  {
   "cell_type": "markdown",
   "id": "c50998e2",
   "metadata": {},
   "source": [
    "## COA\n",
    "\n",
    "*Analisis de reduccion de variables* \n",
    "- te quedas con primeras varibales para explicar el sistema -> nos quedamos con 3 ejes\n",
    "- se genera una \"mancha\", que se analiza, nueva fomra de visualizar los datos\n",
    "- ej: set de genes q sospecho no son del mismo bicho, si quedan q son aparte se ve \n",
    "                                     \n",
    "\n",
    "Analizo la frecuencia ad codones, pueden aparecer dos genes en el mismo lugar, pero no ser iguales, solo coinciden la freq de codones\n",
    "\n",
    "Ej: esteriotipo de personas de diferentes paises\n",
    " ![Grafico de personas dif paises](https://notebook-fi.facultades.ort.edu.uy/user/238275/files/Bioinfo1_clara/Genomica_Comparativa/coa/COA_personas_paises.jpeg)\n",
    " "
   ]
  },
  {
   "cell_type": "markdown",
   "id": "02b7082c",
   "metadata": {},
   "source": [
    "#### RSCU \n",
    "-> elimina sesgo de aa\n",
    "\n",
    "#### UCO \n",
    "-> es como count, solo cuenta"
   ]
  },
  {
   "cell_type": "markdown",
   "id": "22f1a2ae",
   "metadata": {},
   "source": [
    "*COA*: utiliza chi cuadrado como metodo estadistico, para determinar si valores son la suficientemente distintos o parecidos, determinando si es posible que x cosa haya pasado por azar"
   ]
  },
  {
   "cell_type": "markdown",
   "id": "90e453cf",
   "metadata": {},
   "source": [
    "GC3 vs scua$co \n",
    "![](https://notebook-fi.facultades.ort.edu.uy/user/238275/files/Bioinfo1_clara/Genomica_Comparativa/coa/COA/GC3%20vs%20SCUA%24CO.jpeg)"
   ]
  },
  {
   "cell_type": "markdown",
   "id": "9a837342",
   "metadata": {},
   "source": [
    "*Grafico de las 3 coordenadas de los codones*\n",
    "![](https://notebook-fi.facultades.ort.edu.uy/user/238275/files/Bioinfo1_clara/Genomica_Comparativa/coa/COA/Graf_3_coordenadas_genes.jpeg)\n",
    "\n",
    "Se tienen coordenadas de 3D, se grafican en dos graficos, son como vistas de costado y arriba\n",
    "\n",
    "Se puede analizar la distribucion de los genes dependiendo del GC"
   ]
  },
  {
   "cell_type": "markdown",
   "id": "76649f21",
   "metadata": {},
   "source": [
    "![comparacion de coa de 2 bichos](https://notebook-fi.facultades.ort.edu.uy/user/238275/files/Bioinfo1_clara/Genomica_Comparativa/coa/COA/ej_comparacion_2_bichos.jpeg)\n",
    "\n",
    "- comparacion de coa de 2 bichos"
   ]
  }
 ],
 "metadata": {
  "kernelspec": {
   "display_name": "Python 3 (ipykernel)",
   "language": "python",
   "name": "python3"
  },
  "language_info": {
   "codemirror_mode": {
    "name": "ipython",
    "version": 3
   },
   "file_extension": ".py",
   "mimetype": "text/x-python",
   "name": "python",
   "nbconvert_exporter": "python",
   "pygments_lexer": "ipython3",
   "version": "3.7.10"
  }
 },
 "nbformat": 4,
 "nbformat_minor": 5
}
