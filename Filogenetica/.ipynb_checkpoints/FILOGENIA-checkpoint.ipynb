{
 "cells": [
  {
   "cell_type": "markdown",
   "id": "787c64fb",
   "metadata": {},
   "source": [
    "# FILOGENETICA\n",
    "\n",
    "\n",
    "###### **Filogenias**:  \n",
    "estudiar relaciones entre organismos con origen comun, que han ido cambiando en el tiempo, divirgendo al presente.\n",
    "Se puede estimar los **tiempos de divergencia**\n",
    "\n",
    "__Arboles__ \n",
    "\n",
    "> Inicio: **LUCA** \n",
    "\n",
    "> Morfologia ≠ ADN mitocontrial y genes nucleares\n",
    "\n",
    "> PARTES:\n",
    "\n",
    "   *Raiz*: organismo ancestral comun a todos los org de las ramas\\\n",
    "   \n",
    "   *Nodos internos*: representan organismos hipoteticos q dieron origen a los de las puntas\n",
    "   \n",
    "   *Nodos externos*: extremos o tips\n",
    "> >puede ser rooteado o no rooteado\n",
    "\n",
    "> GRUPOS:\n",
    "\n",
    "   >>**Monofiletico**: puntas q parten de un ancesestro comun y todos estos forman parte del mismo grupo \n",
    "   \n",
    "  >> **Parafiletico**: organismos de puntas, ancestro comun pero no comparten x caracter\n",
    "   \n",
    "   >>**Polifiletico**: organismos de las puntas, con anecstro comun comparten caracter, pero no lo hace si ancestro\n",
    "\n",
    "> Tipos de arboles:\n",
    "\n",
    "   *Cladograma*: ramas el mismo largo, sin significado, solo relacion entre organismos, no q tan distintos son\n",
    "\n",
    "   *Filograma*: distinto largo de rama, que puede significar varias cosas, tasa de sustitucion, etc. S ecuentan todos los largos del camino hassta llegar al org estudiado\n",
    "\n",
    "   *Ultrametrico*: eje x= tiempo de divergencia, todas las ramas terminan a la misma altura (presente)\n",
    "\n",
    "> FORMATO NEWICK\n",
    "\n",
    "archivos: los grupos se senalan con parentesis --> ((((A,B),D),E);\n",
    "\n",
    "Si hay largo de ramas se indica con dos puntos en seguida del grupo\n",
    "ej: (A:0.1)"
   ]
  },
  {
   "cell_type": "markdown",
   "id": "01e7afdd",
   "metadata": {},
   "source": [
    "CLASE 18/11"
   ]
  },
  {
   "cell_type": "markdown",
   "id": "05ca298f",
   "metadata": {},
   "source": [
    "Caminar erguido: caract compartida en un grupo (grandes primates), pero no es su ancestro comun, es una novedad, se puede usar para clasificar\n",
    "\n",
    "*PLESIOMORFIAS* --> Caracteres ancestrales\n",
    "\n",
    "*SIMPLESIOMORFIAS* --> mas de un taxon presenta el estado ancestral\n",
    "\n",
    "*SINAPOMORFIAS* -->  caract derivadas compartidas\n"
   ]
  }
 ],
 "metadata": {
  "kernelspec": {
   "display_name": "Python 3 (ipykernel)",
   "language": "python",
   "name": "python3"
  },
  "language_info": {
   "codemirror_mode": {
    "name": "ipython",
    "version": 3
   },
   "file_extension": ".py",
   "mimetype": "text/x-python",
   "name": "python",
   "nbconvert_exporter": "python",
   "pygments_lexer": "ipython3",
   "version": "3.7.10"
  }
 },
 "nbformat": 4,
 "nbformat_minor": 5
}
